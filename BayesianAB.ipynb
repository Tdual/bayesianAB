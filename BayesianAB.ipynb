{
 "cells": [
  {
   "cell_type": "code",
   "execution_count": 1,
   "metadata": {},
   "outputs": [],
   "source": [
    "%matplotlib inline\n",
    "from matplotlib import pyplot as plt\n",
    "from matplotlib.patches import Rectangle\n",
    "import pandas as pd\n",
    "from scipy.stats import beta, bernoulli\n",
    "import numpy as np"
   ]
  },
  {
   "cell_type": "code",
   "execution_count": 2,
   "metadata": {},
   "outputs": [],
   "source": [
    "def dummy_genrator(conversion_rate, n_impression):\n",
    "    return np.array(bernoulli(conversion_rate).rvs(n_impression))"
   ]
  },
  {
   "cell_type": "code",
   "execution_count": 3,
   "metadata": {},
   "outputs": [
    {
     "name": "stdout",
     "output_type": "stream",
     "text": [
      "A \n",
      "表示数: 204\n",
      "購入数: 2\n",
      "\n",
      "B \n",
      "表示数: 200\n",
      "購入数: 5\n",
      "\n"
     ]
    }
   ],
   "source": [
    "a = dummy_genrator(0.015, 204)\n",
    "b = dummy_genrator(0.021, 200)\n",
    "imp_a = len(a)\n",
    "imp_b = len(b)\n",
    "conv_a = np.count_nonzero(a)\n",
    "conv_b = np.count_nonzero(b)\n",
    "print(\"A \\n表示数: {}\\n購入数: {}\\n\".format(imp_a, conv_a))\n",
    "print(\"B \\n表示数: {}\\n購入数: {}\\n\".format(imp_b, conv_b))"
   ]
  },
  {
   "cell_type": "code",
   "execution_count": 54,
   "metadata": {},
   "outputs": [],
   "source": [
    "class BayesianAB:\n",
    "    \n",
    "    def __init__(self, params=None, size=2):\n",
    "        \"\"\"\n",
    "            params are a list of Beta distribution's initial params. e.g. [[alpha of A, beta of A], [alpha of B, beta of B]]\n",
    "        \"\"\"\n",
    "        if params is None:\n",
    "            self.params = []\n",
    "            for _ in range(size):\n",
    "                self.params.append([1,1])\n",
    "        self.size = len(self.params)\n",
    "        self.data = []\n",
    "        for _ in range(size):\n",
    "            self.data.append([0,0])\n",
    "        print(\"the number of comparison: \", self.size)\n",
    "        self.sampling()\n",
    "        \n",
    "    def update(self, data, sampling=True):\n",
    "        \"\"\"\n",
    "         data are a list of pairs of impression and conversion. e.g. [[imp of A, conv of A], [imp of B, conv of B]]\n",
    "        \"\"\"\n",
    "        if self.size != len(data):\n",
    "            print(\"No match of the size.\")\n",
    "        \n",
    "        for p, current, new in zip(self.params, self.data, data):\n",
    "            imp = new[0]\n",
    "            conv = new[1]\n",
    "            current[0] += imp\n",
    "            current[1] += conv\n",
    "            p[0] += conv\n",
    "            p[1] += (imp - conv)\n",
    "        if sampling:\n",
    "            self.sampling()\n",
    "        \n",
    "        \n",
    "    def mean_ver(self):\n",
    "        \"\"\"\n",
    "            return [(mean of A, variance of A), (mean of B, variance of B), ...]\n",
    "        \"\"\"\n",
    "        return  [(posterior.mean(), posterior.var())for posterior in self.posterior_list]\n",
    "\n",
    "        \n",
    "        \n",
    "    def sampling(self, n_samples=30000):\n",
    "        print(\"num of samples: \", n_samples)\n",
    "        self.posterior_list = [beta(*p).rvs(n_samples) for p in self.params]\n",
    "\n",
    "\n",
    "        \n",
    "    def show_beta(self, title=\"\", save=False, labels=None):\n",
    "        \n",
    "        plt.figure(figsize=(10, 5))\n",
    "        plt.title(\"Posterior distribution \"+ title)\n",
    "        \n",
    "        cmap = plt.get_cmap('jet')\n",
    "        color_list= []\n",
    "            \n",
    "        for i, posterior in enumerate(self.posterior_list):\n",
    "            color =cmap(0.25*(i+1))\n",
    "            color_list.append(color)\n",
    "            plt.hist(posterior, bins=100, histtype=\"stepfilled\", normed=True, color=color, alpha=0.5)\n",
    "        handles = [Rectangle((0,0),1,1,color=c, ec=\"k\", alpha=0.5) for c in color_list]\n",
    "        \n",
    "        if labels is None:\n",
    "            labels = [chr(65+i) for i in range(self.size)] # create A,B,...\n",
    "            \n",
    "\n",
    "        plt.legend(handles, labels)\n",
    "        if save:\n",
    "            plt.savefig(\"{}.png\".format(title))\n",
    "        plt.show()\n",
    "    \n",
    "    def diff_prob(self, index_high, index_low):\n",
    "        prob = (self.posterior_list[index_low] < self.posterior_list[index_high]).mean()\n",
    "        if prob < 0.5:\n",
    "            prob = 1 - prob\n",
    "        return prob\n",
    "    \n",
    "    def show_metrics(self):\n",
    "        print(self.data)\n",
    "        \n",
    "    def metrics(self, labels=None):\n",
    "        if labels is None:\n",
    "            labels = [chr(65+i) for i in range(self.size)] # create A,B,...\n",
    "        return pd.DataFrame(self.data, index=labels, columns=[\"Impressions\", \"Conversions\"])\n",
    "        "
   ]
  },
  {
   "cell_type": "code",
   "execution_count": 55,
   "metadata": {},
   "outputs": [
    {
     "name": "stdout",
     "output_type": "stream",
     "text": [
      "the number of comparison:  2\n",
      "num of samples:  30000\n"
     ]
    }
   ],
   "source": [
    "abtest = BayesianAB()"
   ]
  },
  {
   "cell_type": "code",
   "execution_count": 56,
   "metadata": {},
   "outputs": [
    {
     "data": {
      "image/png": "[encoded data removed]",
      "text/plain": [
       "<matplotlib.figure.Figure at 0x116c02588>"
      ]
     },
     "metadata": {},
     "output_type": "display_data"
    }
   ],
   "source": [
    "abtest.show_beta()"
   ]
  },
  {
   "cell_type": "code",
   "execution_count": 57,
   "metadata": {},
   "outputs": [
    {
     "name": "stdout",
     "output_type": "stream",
     "text": [
      "num of samples:  30000\n"
     ]
    }
   ],
   "source": [
    "abtest.update([[imp_a, conv_a], [imp_b, conv_b]])"
   ]
  },
  {
   "cell_type": "code",
   "execution_count": 58,
   "metadata": {},
   "outputs": [
    {
     "data": {
      "text/plain": [
       "[(0.015346559982177547, 5.930037696150928e-08),\n",
       " (0.020925755071378768, 9.320852168415905e-08)]"
      ]
     },
     "execution_count": 58,
     "metadata": {},
     "output_type": "execute_result"
    }
   ],
   "source": [
    "abtest.mean_ver()"
   ]
  },
  {
   "cell_type": "code",
   "execution_count": 59,
   "metadata": {},
   "outputs": [
    {
     "data": {
      "image/png": "[encoded data removed]",
      "text/plain": [
       "<matplotlib.figure.Figure at 0x116b18da0>"
      ]
     },
     "metadata": {},
     "output_type": "display_data"
    }
   ],
   "source": [
    "abtest.show_beta()"
   ]
  },
  {
   "cell_type": "code",
   "execution_count": 60,
   "metadata": {},
   "outputs": [
    {
     "data": {
      "text/plain": [
       "1.0"
      ]
     },
     "execution_count": 60,
     "metadata": {},
     "output_type": "execute_result"
    }
   ],
   "source": [
    "abtest.diff_prob(0,1)"
   ]
  },
  {
   "cell_type": "code",
   "execution_count": 61,
   "metadata": {},
   "outputs": [
    {
     "name": "stdout",
     "output_type": "stream",
     "text": [
      "[[251000, 3851], [220000, 4603]]\n"
     ]
    }
   ],
   "source": [
    "abtest.show_metrics()"
   ]
  },
  {
   "cell_type": "code",
   "execution_count": 62,
   "metadata": {},
   "outputs": [
    {
     "name": "stdout",
     "output_type": "stream",
     "text": [
      "A \n",
      "表示数: 20400\n",
      "購入数: 276\n",
      "\n",
      "B \n",
      "表示数: 20000\n",
      "購入数: 419\n",
      "\n"
     ]
    }
   ],
   "source": [
    "a = dummy_genrator(0.015, 20400)\n",
    "b = dummy_genrator(0.021, 20000)\n",
    "imp_a = len(a)\n",
    "imp_b = len(b)\n",
    "conv_a = np.count_nonzero(a)\n",
    "conv_b = np.count_nonzero(b)\n",
    "print(\"A \\n表示数: {}\\n購入数: {}\\n\".format(imp_a, conv_a))\n",
    "print(\"B \\n表示数: {}\\n購入数: {}\\n\".format(imp_b, conv_b))"
   ]
  },
  {
   "cell_type": "code",
   "execution_count": 63,
   "metadata": {},
   "outputs": [
    {
     "name": "stdout",
     "output_type": "stream",
     "text": [
      "num of samples:  30000\n"
     ]
    }
   ],
   "source": [
    "abtest.update([[imp_a, conv_a], [imp_b, conv_b]])"
   ]
  },
  {
   "cell_type": "code",
   "execution_count": 64,
   "metadata": {},
   "outputs": [
    {
     "name": "stdout",
     "output_type": "stream",
     "text": [
      "[[271400, 4127], [240000, 5022]]\n"
     ]
    }
   ],
   "source": [
    "abtest.show_metrics()"
   ]
  },
  {
   "cell_type": "code",
   "execution_count": 65,
   "metadata": {},
   "outputs": [
    {
     "data": {
      "text/html": [
       "<div>\n",
       "<style>\n",
       "    .dataframe thead tr:only-child th {\n",
       "        text-align: right;\n",
       "    }\n",
       "\n",
       "    .dataframe thead th {\n",
       "        text-align: left;\n",
       "    }\n",
       "\n",
       "    .dataframe tbody tr th {\n",
       "        vertical-align: top;\n",
       "    }\n",
       "</style>\n",
       "<table border=\"1\" class=\"dataframe\">\n",
       "  <thead>\n",
       "    <tr style=\"text-align: right;\">\n",
       "      <th></th>\n",
       "      <th>Impressions</th>\n",
       "      <th>Conversions</th>\n",
       "    </tr>\n",
       "  </thead>\n",
       "  <tbody>\n",
       "    <tr>\n",
       "      <th>A</th>\n",
       "      <td>271400</td>\n",
       "      <td>4127</td>\n",
       "    </tr>\n",
       "    <tr>\n",
       "      <th>B</th>\n",
       "      <td>240000</td>\n",
       "      <td>5022</td>\n",
       "    </tr>\n",
       "  </tbody>\n",
       "</table>\n",
       "</div>"
      ],
      "text/plain": [
       "   Impressions  Conversions\n",
       "A       271400         4127\n",
       "B       240000         5022"
      ]
     },
     "execution_count": 65,
     "metadata": {},
     "output_type": "execute_result"
    }
   ],
   "source": [
    "abtest.metrics()"
   ]
  },
  {
   "cell_type": "code",
   "execution_count": 66,
   "metadata": {},
   "outputs": [
    {
     "name": "stdout",
     "output_type": "stream",
     "text": [
      "A \n",
      "表示数: 2510\n",
      "購入数: 39\n",
      "\n",
      "B \n",
      "表示数: 2000\n",
      "購入数: 44\n",
      "\n",
      "B \n",
      "表示数: 2330\n",
      "購入数: 34\n",
      "\n"
     ]
    }
   ],
   "source": [
    "a = dummy_genrator(0.015, 2510)\n",
    "b = dummy_genrator(0.021, 2000)\n",
    "c = dummy_genrator(0.016, 2330)\n",
    "imp_a = len(a)\n",
    "imp_b = len(b)\n",
    "imp_c = len(c)\n",
    "conv_a = np.count_nonzero(a)\n",
    "conv_b = np.count_nonzero(b)\n",
    "conv_c = np.count_nonzero(c)\n",
    "print(\"A \\n表示数: {}\\n購入数: {}\\n\".format(imp_a, conv_a))\n",
    "print(\"B \\n表示数: {}\\n購入数: {}\\n\".format(imp_b, conv_b))\n",
    "print(\"B \\n表示数: {}\\n購入数: {}\\n\".format(imp_c, conv_c))"
   ]
  },
  {
   "cell_type": "code",
   "execution_count": 67,
   "metadata": {},
   "outputs": [
    {
     "name": "stdout",
     "output_type": "stream",
     "text": [
      "the number of comparison:  3\n",
      "num of samples:  30000\n",
      "num of samples:  30000\n"
     ]
    },
    {
     "data": {
      "image/png": "[encoded data removed]",
      "text/plain": [
       "<matplotlib.figure.Figure at 0x116c024a8>"
      ]
     },
     "metadata": {},
     "output_type": "display_data"
    }
   ],
   "source": [
    "abtest = BayesianAB(size=3)\n",
    "abtest.update([[imp_a, conv_a], [imp_b, conv_b],[imp_c, conv_c]])\n",
    "abtest.show_beta()\n",
    "#abtest.diff_prob()"
   ]
  },
  {
   "cell_type": "code",
   "execution_count": 68,
   "metadata": {},
   "outputs": [
    {
     "data": {
      "text/html": [
       "<div>\n",
       "<style>\n",
       "    .dataframe thead tr:only-child th {\n",
       "        text-align: right;\n",
       "    }\n",
       "\n",
       "    .dataframe thead th {\n",
       "        text-align: left;\n",
       "    }\n",
       "\n",
       "    .dataframe tbody tr th {\n",
       "        vertical-align: top;\n",
       "    }\n",
       "</style>\n",
       "<table border=\"1\" class=\"dataframe\">\n",
       "  <thead>\n",
       "    <tr style=\"text-align: right;\">\n",
       "      <th></th>\n",
       "      <th>Impressions</th>\n",
       "      <th>Conversions</th>\n",
       "    </tr>\n",
       "  </thead>\n",
       "  <tbody>\n",
       "    <tr>\n",
       "      <th>A</th>\n",
       "      <td>2510</td>\n",
       "      <td>39</td>\n",
       "    </tr>\n",
       "    <tr>\n",
       "      <th>B</th>\n",
       "      <td>2000</td>\n",
       "      <td>44</td>\n",
       "    </tr>\n",
       "    <tr>\n",
       "      <th>C</th>\n",
       "      <td>2330</td>\n",
       "      <td>34</td>\n",
       "    </tr>\n",
       "  </tbody>\n",
       "</table>\n",
       "</div>"
      ],
      "text/plain": [
       "   Impressions  Conversions\n",
       "A         2510           39\n",
       "B         2000           44\n",
       "C         2330           34"
      ]
     },
     "execution_count": 68,
     "metadata": {},
     "output_type": "execute_result"
    }
   ],
   "source": [
    "abtest.metrics()"
   ]
  },
  {
   "cell_type": "code",
   "execution_count": 69,
   "metadata": {},
   "outputs": [
    {
     "data": {
      "text/plain": [
       "0.9455"
      ]
     },
     "execution_count": 69,
     "metadata": {},
     "output_type": "execute_result"
    }
   ],
   "source": [
    "abtest.diff_prob(1,0)"
   ]
  },
  {
   "cell_type": "code",
   "execution_count": 70,
   "metadata": {},
   "outputs": [
    {
     "data": {
      "text/plain": [
       "0.9673333333333334"
      ]
     },
     "execution_count": 70,
     "metadata": {},
     "output_type": "execute_result"
    }
   ],
   "source": [
    "abtest.diff_prob(1,2)"
   ]
  },
  {
   "cell_type": "code",
   "execution_count": 71,
   "metadata": {},
   "outputs": [
    {
     "data": {
      "text/plain": [
       "0.6089333333333333"
      ]
     },
     "execution_count": 71,
     "metadata": {},
     "output_type": "execute_result"
    }
   ],
   "source": [
    "abtest.diff_prob(2,0)"
   ]
  },
  {
   "cell_type": "code",
   "execution_count": 72,
   "metadata": {},
   "outputs": [
    {
     "name": "stdout",
     "output_type": "stream",
     "text": [
      "A \n",
      "表示数: 25100\n",
      "購入数: 370\n",
      "\n",
      "B \n",
      "表示数: 22000\n",
      "購入数: 447\n",
      "\n",
      "B \n",
      "表示数: 23300\n",
      "購入数: 394\n",
      "\n"
     ]
    }
   ],
   "source": [
    "a = dummy_genrator(0.015, 25100)\n",
    "b = dummy_genrator(0.021, 22000)\n",
    "c = dummy_genrator(0.016, 23300)\n",
    "imp_a = len(a)\n",
    "imp_b = len(b)\n",
    "imp_c = len(c)\n",
    "conv_a = np.count_nonzero(a)\n",
    "conv_b = np.count_nonzero(b)\n",
    "conv_c = np.count_nonzero(c)\n",
    "print(\"A \\n表示数: {}\\n購入数: {}\\n\".format(imp_a, conv_a))\n",
    "print(\"B \\n表示数: {}\\n購入数: {}\\n\".format(imp_b, conv_b))\n",
    "print(\"B \\n表示数: {}\\n購入数: {}\\n\".format(imp_c, conv_c))"
   ]
  },
  {
   "cell_type": "code",
   "execution_count": 73,
   "metadata": {},
   "outputs": [
    {
     "name": "stdout",
     "output_type": "stream",
     "text": [
      "num of samples:  30000\n"
     ]
    },
    {
     "data": {
      "image/png": "[encoded data removed]",
      "text/plain": [
       "<matplotlib.figure.Figure at 0x116c9f978>"
      ]
     },
     "metadata": {},
     "output_type": "display_data"
    },
    {
     "data": {
      "text/plain": [
       "[(0.014848077086459351, 5.302755461354647e-07),\n",
       " (0.020499801676327353, 8.304548309774921e-07),\n",
       " (0.016736877713460555, 6.48543987556852e-07)]"
      ]
     },
     "execution_count": 73,
     "metadata": {},
     "output_type": "execute_result"
    }
   ],
   "source": [
    "abtest.update([[imp_a, conv_a], [imp_b, conv_b],[imp_c, conv_c]])\n",
    "abtest.show_beta()\n",
    "abtest.mean_ver()"
   ]
  },
  {
   "cell_type": "code",
   "execution_count": 74,
   "metadata": {},
   "outputs": [
    {
     "data": {
      "text/html": [
       "<div>\n",
       "<style>\n",
       "    .dataframe thead tr:only-child th {\n",
       "        text-align: right;\n",
       "    }\n",
       "\n",
       "    .dataframe thead th {\n",
       "        text-align: left;\n",
       "    }\n",
       "\n",
       "    .dataframe tbody tr th {\n",
       "        vertical-align: top;\n",
       "    }\n",
       "</style>\n",
       "<table border=\"1\" class=\"dataframe\">\n",
       "  <thead>\n",
       "    <tr style=\"text-align: right;\">\n",
       "      <th></th>\n",
       "      <th>Impressions</th>\n",
       "      <th>Conversions</th>\n",
       "    </tr>\n",
       "  </thead>\n",
       "  <tbody>\n",
       "    <tr>\n",
       "      <th>A</th>\n",
       "      <td>27610</td>\n",
       "      <td>409</td>\n",
       "    </tr>\n",
       "    <tr>\n",
       "      <th>B</th>\n",
       "      <td>24000</td>\n",
       "      <td>491</td>\n",
       "    </tr>\n",
       "    <tr>\n",
       "      <th>C</th>\n",
       "      <td>25630</td>\n",
       "      <td>428</td>\n",
       "    </tr>\n",
       "  </tbody>\n",
       "</table>\n",
       "</div>"
      ],
      "text/plain": [
       "   Impressions  Conversions\n",
       "A        27610          409\n",
       "B        24000          491\n",
       "C        25630          428"
      ]
     },
     "execution_count": 74,
     "metadata": {},
     "output_type": "execute_result"
    }
   ],
   "source": [
    "abtest.metrics()"
   ]
  },
  {
   "cell_type": "code",
   "execution_count": 75,
   "metadata": {},
   "outputs": [
    {
     "data": {
      "text/plain": [
       "1.0"
      ]
     },
     "execution_count": 75,
     "metadata": {},
     "output_type": "execute_result"
    }
   ],
   "source": [
    "abtest.diff_prob(1,0)"
   ]
  },
  {
   "cell_type": "code",
   "execution_count": 76,
   "metadata": {},
   "outputs": [
    {
     "data": {
      "text/plain": [
       "0.9990333333333333"
      ]
     },
     "execution_count": 76,
     "metadata": {},
     "output_type": "execute_result"
    }
   ],
   "source": [
    "abtest.diff_prob(1,2)"
   ]
  },
  {
   "cell_type": "code",
   "execution_count": 77,
   "metadata": {},
   "outputs": [
    {
     "data": {
      "text/plain": [
       "0.9597666666666667"
      ]
     },
     "execution_count": 77,
     "metadata": {},
     "output_type": "execute_result"
    }
   ],
   "source": [
    "abtest.diff_prob(0,2)"
   ]
  },
  {
   "cell_type": "code",
   "execution_count": 78,
   "metadata": {},
   "outputs": [
    {
     "name": "stdout",
     "output_type": "stream",
     "text": [
      "A \n",
      "表示数: 251000\n",
      "購入数: 3704\n",
      "\n",
      "B \n",
      "表示数: 220000\n",
      "購入数: 4643\n",
      "\n",
      "B \n",
      "表示数: 233000\n",
      "購入数: 3782\n",
      "\n"
     ]
    }
   ],
   "source": [
    "a = dummy_genrator(0.015, 251000)\n",
    "b = dummy_genrator(0.021, 220000)\n",
    "c = dummy_genrator(0.016, 233000)\n",
    "imp_a = len(a)\n",
    "imp_b = len(b)\n",
    "imp_c = len(c)\n",
    "conv_a = np.count_nonzero(a)\n",
    "conv_b = np.count_nonzero(b)\n",
    "conv_c = np.count_nonzero(c)\n",
    "print(\"A \\n表示数: {}\\n購入数: {}\\n\".format(imp_a, conv_a))\n",
    "print(\"B \\n表示数: {}\\n購入数: {}\\n\".format(imp_b, conv_b))\n",
    "print(\"B \\n表示数: {}\\n購入数: {}\\n\".format(imp_c, conv_c))"
   ]
  },
  {
   "cell_type": "code",
   "execution_count": 79,
   "metadata": {},
   "outputs": [
    {
     "name": "stdout",
     "output_type": "stream",
     "text": [
      "num of samples:  30000\n"
     ]
    },
    {
     "data": {
      "image/png": "[encoded data removed]",
      "text/plain": [
       "<matplotlib.figure.Figure at 0x1156c9320>"
      ]
     },
     "metadata": {},
     "output_type": "display_data"
    },
    {
     "data": {
      "text/plain": [
       "[(0.014766924466303408, 5.235800379319372e-08),\n",
       " (0.021043674741217346, 8.392625953390993e-08),\n",
       " (0.0162819369277526, 6.175138482479748e-08)]"
      ]
     },
     "execution_count": 79,
     "metadata": {},
     "output_type": "execute_result"
    }
   ],
   "source": [
    "abtest.update([[imp_a, conv_a], [imp_b, conv_b],[imp_c, conv_c]])\n",
    "abtest.show_beta()\n",
    "abtest.mean_ver()"
   ]
  },
  {
   "cell_type": "code",
   "execution_count": 80,
   "metadata": {},
   "outputs": [
    {
     "data": {
      "text/plain": [
       "1.0"
      ]
     },
     "execution_count": 80,
     "metadata": {},
     "output_type": "execute_result"
    }
   ],
   "source": [
    "abtest.diff_prob(2,0)"
   ]
  },
  {
   "cell_type": "code",
   "execution_count": null,
   "metadata": {},
   "outputs": [],
   "source": []
  }
 ],
 "metadata": {
  "kernelspec": {
   "display_name": "Environment (conda_py36)",
   "language": "python",
   "name": "conda_py36"
  },
  "language_info": {
   "codemirror_mode": {
    "name": "ipython",
    "version": 3
   },
   "file_extension": ".py",
   "mimetype": "text/x-python",
   "name": "python",
   "nbconvert_exporter": "python",
   "pygments_lexer": "ipython3",
   "version": "3.6.3"
  }
 },
 "nbformat": 4,
 "nbformat_minor": 2
}
