{
 "cells": [
  {
   "cell_type": "code",
   "execution_count": 1,
   "metadata": {},
   "outputs": [],
   "source": [
    "%matplotlib inline\n",
    "from matplotlib import pyplot as plt\n",
    "from matplotlib.patches import Rectangle\n",
    "import pandas as pd\n",
    "from scipy.stats import beta, bernoulli\n",
    "import numpy as np"
   ]
  },
  {
   "cell_type": "code",
   "execution_count": 2,
   "metadata": {},
   "outputs": [],
   "source": [
    "def dummy_genrator(conversion_rate, n_impression):\n",
    "    return np.array(bernoulli(conversion_rate).rvs(n_impression))"
   ]
  },
  {
   "cell_type": "code",
   "execution_count": 3,
   "metadata": {},
   "outputs": [
    {
     "name": "stdout",
     "output_type": "stream",
     "text": [
      "A \n",
      "表示数: 204\n",
      "購入数: 2\n",
      "\n",
      "B \n",
      "表示数: 200\n",
      "購入数: 3\n",
      "\n"
     ]
    }
   ],
   "source": [
    "a = dummy_genrator(0.015, 204)\n",
    "b = dummy_genrator(0.021, 200)\n",
    "imp_a = len(a)\n",
    "imp_b = len(b)\n",
    "conv_a = np.count_nonzero(a)\n",
    "conv_b = np.count_nonzero(b)\n",
    "print(\"A \\n表示数: {}\\n購入数: {}\\n\".format(imp_a, conv_a))\n",
    "print(\"B \\n表示数: {}\\n購入数: {}\\n\".format(imp_b, conv_b))"
   ]
  },
  {
   "cell_type": "code",
   "execution_count": 4,
   "metadata": {},
   "outputs": [],
   "source": [
    "class BayesianAB:\n",
    "    \n",
    "    def __init__(self, params=None, size=2):\n",
    "        \"\"\"\n",
    "            params are a list of Beta distribution's initial params. e.g. [[alpha of A, beta of A], [alpha of B, beta of B]]\n",
    "        \"\"\"\n",
    "        if params is None:\n",
    "            self.params = []\n",
    "            for _ in range(size):\n",
    "                self.params.append([1,1])\n",
    "        self.size = len(self.params)\n",
    "        self.data = []\n",
    "        for _ in range(size):\n",
    "            self.data.append([0,0])\n",
    "        print(\"the number of comparison: \", self.size)\n",
    "        self.sampling()\n",
    "        \n",
    "    def update(self, data, sampling=True):\n",
    "        \"\"\"\n",
    "         data are a list of pairs of impression and conversion. e.g. [[imp of A, conv of A], [imp of B, conv of B]]\n",
    "        \"\"\"\n",
    "        if self.size != len(data):\n",
    "            print(\"No match of the size.\")\n",
    "        \n",
    "        for p, current, new in zip(self.params, self.data, data):\n",
    "            imp = new[0]\n",
    "            conv = new[1]\n",
    "            current[0] += imp\n",
    "            current[1] += conv\n",
    "            p[0] += conv\n",
    "            p[1] += (imp - conv)\n",
    "        if sampling:\n",
    "            self.sampling()\n",
    "        \n",
    "        \n",
    "    def mean_ver(self):\n",
    "        \"\"\"\n",
    "            return [(mean of A, variance of A), (mean of B, variance of B), ...]\n",
    "        \"\"\"\n",
    "        return  [(posterior.mean(), posterior.var())for posterior in self.posterior_list]\n",
    "\n",
    "        \n",
    "        \n",
    "    def sampling(self, n_samples=50000):\n",
    "        print(\"num of samples: \", n_samples)\n",
    "        self.posterior_list = [beta(*p).rvs(n_samples) for p in self.params]\n",
    "\n",
    "\n",
    "        \n",
    "    def show_beta(self, title=\"\", save=False, labels=None):\n",
    "        \n",
    "        plt.figure(figsize=(10, 5))\n",
    "        plt.title(\"Posterior distribution \"+ title)\n",
    "        \n",
    "        cmap = plt.get_cmap('jet')\n",
    "        color_list= []\n",
    "            \n",
    "        for i, posterior in enumerate(self.posterior_list):\n",
    "            color =cmap(0.25*(i+1))\n",
    "            color_list.append(color)\n",
    "            plt.hist(posterior, bins=100, histtype=\"stepfilled\", normed=True, color=color, alpha=0.5)\n",
    "        handles = [Rectangle((0,0),1,1,color=c, ec=\"k\", alpha=0.5) for c in color_list]\n",
    "        \n",
    "        if labels is None:\n",
    "            labels = [chr(65+i) for i in range(self.size)] # create A,B,...\n",
    "            \n",
    "\n",
    "        plt.legend(handles, labels)\n",
    "        if save:\n",
    "            plt.savefig(\"{}.png\".format(title))\n",
    "        plt.show()\n",
    "    \n",
    "    def diff_prob(self, index_high, index_low):\n",
    "        prob = (self.posterior_list[index_low] < self.posterior_list[index_high]).mean()\n",
    "        if prob < 0.5:\n",
    "            prob = 1 - prob\n",
    "        return prob\n",
    "    \n",
    "    def show_metrics(self):\n",
    "        print(self.data)\n",
    "        \n",
    "    def metrics(self, labels=None):\n",
    "        if labels is None:\n",
    "            labels = [chr(65+i) for i in range(self.size)] # create A,B,...\n",
    "        return pd.DataFrame(self.data, index=labels, columns=[\"Impressions\", \"Conversions\"])\n",
    "        "
   ]
  },
  {
   "cell_type": "code",
   "execution_count": 5,
   "metadata": {},
   "outputs": [
    {
     "name": "stdout",
     "output_type": "stream",
     "text": [
      "the number of comparison:  2\n",
      "num of samples:  50000\n"
     ]
    }
   ],
   "source": [
    "abtest = BayesianAB()"
   ]
  },
  {
   "cell_type": "code",
   "execution_count": 6,
   "metadata": {},
   "outputs": [
    {
     "data": {
      "image/png": "[encoded data removed]",
      "text/plain": [
       "<matplotlib.figure.Figure at 0x10c255a20>"
      ]
     },
     "metadata": {},
     "output_type": "display_data"
    }
   ],
   "source": [
    "abtest.show_beta()"
   ]
  },
  {
   "cell_type": "code",
   "execution_count": 7,
   "metadata": {},
   "outputs": [
    {
     "name": "stdout",
     "output_type": "stream",
     "text": [
      "num of samples:  50000\n"
     ]
    }
   ],
   "source": [
    "abtest.update([[imp_a, conv_a], [imp_b, conv_b]])"
   ]
  },
  {
   "cell_type": "code",
   "execution_count": 8,
   "metadata": {},
   "outputs": [
    {
     "data": {
      "text/plain": [
       "[(0.014610260919694517, 7.003148406424335e-05),\n",
       " (0.019850764074203515, 9.568870563433339e-05)]"
      ]
     },
     "execution_count": 8,
     "metadata": {},
     "output_type": "execute_result"
    }
   ],
   "source": [
    "abtest.mean_ver()"
   ]
  },
  {
   "cell_type": "code",
   "execution_count": 9,
   "metadata": {},
   "outputs": [
    {
     "data": {
      "image/png": "[encoded data removed]",
      "text/plain": [
       "<matplotlib.figure.Figure at 0x10c506b70>"
      ]
     },
     "metadata": {},
     "output_type": "display_data"
    }
   ],
   "source": [
    "abtest.show_beta()"
   ]
  },
  {
   "cell_type": "code",
   "execution_count": 10,
   "metadata": {},
   "outputs": [
    {
     "data": {
      "text/plain": [
       "0.6682600000000001"
      ]
     },
     "execution_count": 10,
     "metadata": {},
     "output_type": "execute_result"
    }
   ],
   "source": [
    "abtest.diff_prob(0,1)"
   ]
  },
  {
   "cell_type": "code",
   "execution_count": 11,
   "metadata": {},
   "outputs": [
    {
     "name": "stdout",
     "output_type": "stream",
     "text": [
      "[[204, 2], [200, 3]]\n"
     ]
    }
   ],
   "source": [
    "abtest.show_metrics()"
   ]
  },
  {
   "cell_type": "code",
   "execution_count": 12,
   "metadata": {},
   "outputs": [
    {
     "name": "stdout",
     "output_type": "stream",
     "text": [
      "A \n",
      "表示数: 20400\n",
      "購入数: 337\n",
      "\n",
      "B \n",
      "表示数: 20000\n",
      "購入数: 433\n",
      "\n"
     ]
    }
   ],
   "source": [
    "a = dummy_genrator(0.015, 20400)\n",
    "b = dummy_genrator(0.021, 20000)\n",
    "imp_a = len(a)\n",
    "imp_b = len(b)\n",
    "conv_a = np.count_nonzero(a)\n",
    "conv_b = np.count_nonzero(b)\n",
    "print(\"A \\n表示数: {}\\n購入数: {}\\n\".format(imp_a, conv_a))\n",
    "print(\"B \\n表示数: {}\\n購入数: {}\\n\".format(imp_b, conv_b))"
   ]
  },
  {
   "cell_type": "code",
   "execution_count": 13,
   "metadata": {},
   "outputs": [
    {
     "name": "stdout",
     "output_type": "stream",
     "text": [
      "num of samples:  50000\n"
     ]
    }
   ],
   "source": [
    "abtest.update([[imp_a, conv_a], [imp_b, conv_b]])"
   ]
  },
  {
   "cell_type": "code",
   "execution_count": 14,
   "metadata": {},
   "outputs": [
    {
     "name": "stdout",
     "output_type": "stream",
     "text": [
      "[[20604, 339], [20200, 436]]\n"
     ]
    }
   ],
   "source": [
    "abtest.show_metrics()"
   ]
  },
  {
   "cell_type": "code",
   "execution_count": 15,
   "metadata": {},
   "outputs": [
    {
     "data": {
      "text/html": [
       "<div>\n",
       "<style>\n",
       "    .dataframe thead tr:only-child th {\n",
       "        text-align: right;\n",
       "    }\n",
       "\n",
       "    .dataframe thead th {\n",
       "        text-align: left;\n",
       "    }\n",
       "\n",
       "    .dataframe tbody tr th {\n",
       "        vertical-align: top;\n",
       "    }\n",
       "</style>\n",
       "<table border=\"1\" class=\"dataframe\">\n",
       "  <thead>\n",
       "    <tr style=\"text-align: right;\">\n",
       "      <th></th>\n",
       "      <th>Impressions</th>\n",
       "      <th>Conversions</th>\n",
       "    </tr>\n",
       "  </thead>\n",
       "  <tbody>\n",
       "    <tr>\n",
       "      <th>A</th>\n",
       "      <td>20604</td>\n",
       "      <td>339</td>\n",
       "    </tr>\n",
       "    <tr>\n",
       "      <th>B</th>\n",
       "      <td>20200</td>\n",
       "      <td>436</td>\n",
       "    </tr>\n",
       "  </tbody>\n",
       "</table>\n",
       "</div>"
      ],
      "text/plain": [
       "   Impressions  Conversions\n",
       "A        20604          339\n",
       "B        20200          436"
      ]
     },
     "execution_count": 15,
     "metadata": {},
     "output_type": "execute_result"
    }
   ],
   "source": [
    "abtest.metrics()"
   ]
  },
  {
   "cell_type": "code",
   "execution_count": 31,
   "metadata": {},
   "outputs": [
    {
     "name": "stdout",
     "output_type": "stream",
     "text": [
      "A \n",
      "表示数: 1002\n",
      "購入数: 22\n",
      "\n",
      "B \n",
      "表示数: 1200\n",
      "購入数: 22\n",
      "\n",
      "C \n",
      "表示数: 1130\n",
      "購入数: 18\n",
      "\n"
     ]
    }
   ],
   "source": [
    "a = dummy_genrator(0.015, 1002)\n",
    "b = dummy_genrator(0.021, 1200)\n",
    "c = dummy_genrator(0.016, 1130)\n",
    "imp_a = len(a)\n",
    "imp_b = len(b)\n",
    "imp_c = len(c)\n",
    "conv_a = np.count_nonzero(a)\n",
    "conv_b = np.count_nonzero(b)\n",
    "conv_c = np.count_nonzero(c)\n",
    "print(\"A \\n表示数: {}\\n購入数: {}\\n\".format(imp_a, conv_a))\n",
    "print(\"B \\n表示数: {}\\n購入数: {}\\n\".format(imp_b, conv_b))\n",
    "print(\"C \\n表示数: {}\\n購入数: {}\\n\".format(imp_c, conv_c))"
   ]
  },
  {
   "cell_type": "code",
   "execution_count": 32,
   "metadata": {},
   "outputs": [
    {
     "name": "stdout",
     "output_type": "stream",
     "text": [
      "the number of comparison:  3\n",
      "num of samples:  50000\n",
      "num of samples:  50000\n"
     ]
    },
    {
     "data": {
      "image/png": "[encoded data removed]",
      "text/plain": [
       "<matplotlib.figure.Figure at 0x10c2eb710>"
      ]
     },
     "metadata": {},
     "output_type": "display_data"
    }
   ],
   "source": [
    "abtest = BayesianAB(size=3)\n",
    "abtest.update([[imp_a, conv_a], [imp_b, conv_b],[imp_c, conv_c]])\n",
    "abtest.show_beta()\n",
    "#abtest.diff_prob()"
   ]
  },
  {
   "cell_type": "code",
   "execution_count": 33,
   "metadata": {},
   "outputs": [
    {
     "data": {
      "text/html": [
       "<div>\n",
       "<style>\n",
       "    .dataframe thead tr:only-child th {\n",
       "        text-align: right;\n",
       "    }\n",
       "\n",
       "    .dataframe thead th {\n",
       "        text-align: left;\n",
       "    }\n",
       "\n",
       "    .dataframe tbody tr th {\n",
       "        vertical-align: top;\n",
       "    }\n",
       "</style>\n",
       "<table border=\"1\" class=\"dataframe\">\n",
       "  <thead>\n",
       "    <tr style=\"text-align: right;\">\n",
       "      <th></th>\n",
       "      <th>Impressions</th>\n",
       "      <th>Conversions</th>\n",
       "    </tr>\n",
       "  </thead>\n",
       "  <tbody>\n",
       "    <tr>\n",
       "      <th>A</th>\n",
       "      <td>1002</td>\n",
       "      <td>22</td>\n",
       "    </tr>\n",
       "    <tr>\n",
       "      <th>B</th>\n",
       "      <td>1200</td>\n",
       "      <td>22</td>\n",
       "    </tr>\n",
       "    <tr>\n",
       "      <th>C</th>\n",
       "      <td>1130</td>\n",
       "      <td>18</td>\n",
       "    </tr>\n",
       "  </tbody>\n",
       "</table>\n",
       "</div>"
      ],
      "text/plain": [
       "   Impressions  Conversions\n",
       "A         1002           22\n",
       "B         1200           22\n",
       "C         1130           18"
      ]
     },
     "execution_count": 33,
     "metadata": {},
     "output_type": "execute_result"
    }
   ],
   "source": [
    "abtest.metrics()"
   ]
  },
  {
   "cell_type": "code",
   "execution_count": 34,
   "metadata": {},
   "outputs": [
    {
     "data": {
      "text/plain": [
       "0.72712"
      ]
     },
     "execution_count": 34,
     "metadata": {},
     "output_type": "execute_result"
    }
   ],
   "source": [
    "abtest.diff_prob(1,0)"
   ]
  },
  {
   "cell_type": "code",
   "execution_count": 35,
   "metadata": {},
   "outputs": [
    {
     "data": {
      "text/plain": [
       "0.66822"
      ]
     },
     "execution_count": 35,
     "metadata": {},
     "output_type": "execute_result"
    }
   ],
   "source": [
    "abtest.diff_prob(1,2)"
   ]
  },
  {
   "cell_type": "code",
   "execution_count": 36,
   "metadata": {},
   "outputs": [
    {
     "data": {
      "text/plain": [
       "0.84508"
      ]
     },
     "execution_count": 36,
     "metadata": {},
     "output_type": "execute_result"
    }
   ],
   "source": [
    "abtest.diff_prob(2,0)"
   ]
  },
  {
   "cell_type": "code",
   "execution_count": 37,
   "metadata": {},
   "outputs": [
    {
     "name": "stdout",
     "output_type": "stream",
     "text": [
      "A \n",
      "表示数: 25100\n",
      "購入数: 364\n",
      "\n",
      "B \n",
      "表示数: 22000\n",
      "購入数: 469\n",
      "\n",
      "B \n",
      "表示数: 23300\n",
      "購入数: 354\n",
      "\n"
     ]
    }
   ],
   "source": [
    "a = dummy_genrator(0.015, 25100)\n",
    "b = dummy_genrator(0.021, 22000)\n",
    "c = dummy_genrator(0.016, 23300)\n",
    "imp_a = len(a)\n",
    "imp_b = len(b)\n",
    "imp_c = len(c)\n",
    "conv_a = np.count_nonzero(a)\n",
    "conv_b = np.count_nonzero(b)\n",
    "conv_c = np.count_nonzero(c)\n",
    "print(\"A \\n表示数: {}\\n購入数: {}\\n\".format(imp_a, conv_a))\n",
    "print(\"B \\n表示数: {}\\n購入数: {}\\n\".format(imp_b, conv_b))\n",
    "print(\"B \\n表示数: {}\\n購入数: {}\\n\".format(imp_c, conv_c))"
   ]
  },
  {
   "cell_type": "code",
   "execution_count": 38,
   "metadata": {},
   "outputs": [
    {
     "name": "stdout",
     "output_type": "stream",
     "text": [
      "num of samples:  50000\n"
     ]
    },
    {
     "data": {
      "image/png": "[encoded data removed]",
      "text/plain": [
       "<matplotlib.figure.Figure at 0x10c7eab00>"
      ]
     },
     "metadata": {},
     "output_type": "display_data"
    },
    {
     "data": {
      "text/plain": [
       "[(0.014823136368344494, 5.586078465062482e-07),\n",
       " (0.0212059201285066, 8.839507467322899e-07),\n",
       " (0.01526854730312879, 6.223394152971891e-07)]"
      ]
     },
     "execution_count": 38,
     "metadata": {},
     "output_type": "execute_result"
    }
   ],
   "source": [
    "abtest.update([[imp_a, conv_a], [imp_b, conv_b],[imp_c, conv_c]])\n",
    "abtest.show_beta()\n",
    "abtest.mean_ver()"
   ]
  },
  {
   "cell_type": "code",
   "execution_count": 39,
   "metadata": {},
   "outputs": [
    {
     "data": {
      "text/html": [
       "<div>\n",
       "<style>\n",
       "    .dataframe thead tr:only-child th {\n",
       "        text-align: right;\n",
       "    }\n",
       "\n",
       "    .dataframe thead th {\n",
       "        text-align: left;\n",
       "    }\n",
       "\n",
       "    .dataframe tbody tr th {\n",
       "        vertical-align: top;\n",
       "    }\n",
       "</style>\n",
       "<table border=\"1\" class=\"dataframe\">\n",
       "  <thead>\n",
       "    <tr style=\"text-align: right;\">\n",
       "      <th></th>\n",
       "      <th>Impressions</th>\n",
       "      <th>Conversions</th>\n",
       "    </tr>\n",
       "  </thead>\n",
       "  <tbody>\n",
       "    <tr>\n",
       "      <th>A</th>\n",
       "      <td>26102</td>\n",
       "      <td>386</td>\n",
       "    </tr>\n",
       "    <tr>\n",
       "      <th>B</th>\n",
       "      <td>23200</td>\n",
       "      <td>491</td>\n",
       "    </tr>\n",
       "    <tr>\n",
       "      <th>C</th>\n",
       "      <td>24430</td>\n",
       "      <td>372</td>\n",
       "    </tr>\n",
       "  </tbody>\n",
       "</table>\n",
       "</div>"
      ],
      "text/plain": [
       "   Impressions  Conversions\n",
       "A        26102          386\n",
       "B        23200          491\n",
       "C        24430          372"
      ]
     },
     "execution_count": 39,
     "metadata": {},
     "output_type": "execute_result"
    }
   ],
   "source": [
    "abtest.metrics()"
   ]
  },
  {
   "cell_type": "code",
   "execution_count": 40,
   "metadata": {},
   "outputs": [
    {
     "data": {
      "text/plain": [
       "1.0"
      ]
     },
     "execution_count": 40,
     "metadata": {},
     "output_type": "execute_result"
    }
   ],
   "source": [
    "abtest.diff_prob(1,0)"
   ]
  },
  {
   "cell_type": "code",
   "execution_count": 41,
   "metadata": {},
   "outputs": [
    {
     "data": {
      "text/plain": [
       "1.0"
      ]
     },
     "execution_count": 41,
     "metadata": {},
     "output_type": "execute_result"
    }
   ],
   "source": [
    "abtest.diff_prob(1,2)"
   ]
  },
  {
   "cell_type": "code",
   "execution_count": 42,
   "metadata": {},
   "outputs": [
    {
     "data": {
      "text/plain": [
       "0.65888"
      ]
     },
     "execution_count": 42,
     "metadata": {},
     "output_type": "execute_result"
    }
   ],
   "source": [
    "abtest.diff_prob(0,2)"
   ]
  },
  {
   "cell_type": "code",
   "execution_count": 43,
   "metadata": {},
   "outputs": [
    {
     "name": "stdout",
     "output_type": "stream",
     "text": [
      "A \n",
      "表示数: 251000\n",
      "購入数: 3808\n",
      "\n",
      "B \n",
      "表示数: 220000\n",
      "購入数: 4544\n",
      "\n",
      "B \n",
      "表示数: 233000\n",
      "購入数: 3811\n",
      "\n"
     ]
    }
   ],
   "source": [
    "a = dummy_genrator(0.015, 251000)\n",
    "b = dummy_genrator(0.021, 220000)\n",
    "c = dummy_genrator(0.016, 233000)\n",
    "imp_a = len(a)\n",
    "imp_b = len(b)\n",
    "imp_c = len(c)\n",
    "conv_a = np.count_nonzero(a)\n",
    "conv_b = np.count_nonzero(b)\n",
    "conv_c = np.count_nonzero(c)\n",
    "print(\"A \\n表示数: {}\\n購入数: {}\\n\".format(imp_a, conv_a))\n",
    "print(\"B \\n表示数: {}\\n購入数: {}\\n\".format(imp_b, conv_b))\n",
    "print(\"B \\n表示数: {}\\n購入数: {}\\n\".format(imp_c, conv_c))"
   ]
  },
  {
   "cell_type": "code",
   "execution_count": 44,
   "metadata": {},
   "outputs": [
    {
     "name": "stdout",
     "output_type": "stream",
     "text": [
      "num of samples:  50000\n"
     ]
    },
    {
     "data": {
      "image/png": "[encoded data removed]",
      "text/plain": [
       "<matplotlib.figure.Figure at 0x10c8bee48>"
      ]
     },
     "metadata": {},
     "output_type": "display_data"
    },
    {
     "data": {
      "text/plain": [
       "[(0.015141034587728202, 5.332992221848848e-08),\n",
       " (0.0207078937798314, 8.243283715216886e-08),\n",
       " (0.016250559254538843, 6.199512187766625e-08)]"
      ]
     },
     "execution_count": 44,
     "metadata": {},
     "output_type": "execute_result"
    }
   ],
   "source": [
    "abtest.update([[imp_a, conv_a], [imp_b, conv_b],[imp_c, conv_c]])\n",
    "abtest.show_beta()\n",
    "abtest.mean_ver()"
   ]
  },
  {
   "cell_type": "code",
   "execution_count": 45,
   "metadata": {},
   "outputs": [
    {
     "data": {
      "text/plain": [
       "0.99964"
      ]
     },
     "execution_count": 45,
     "metadata": {},
     "output_type": "execute_result"
    }
   ],
   "source": [
    "abtest.diff_prob(2,0)"
   ]
  },
  {
   "cell_type": "code",
   "execution_count": null,
   "metadata": {},
   "outputs": [],
   "source": []
  }
 ],
 "metadata": {
  "kernelspec": {
   "display_name": "Environment (conda_py36)",
   "language": "python",
   "name": "conda_py36"
  },
  "language_info": {
   "codemirror_mode": {
    "name": "ipython",
    "version": 3
   },
   "file_extension": ".py",
   "mimetype": "text/x-python",
   "name": "python",
   "nbconvert_exporter": "python",
   "pygments_lexer": "ipython3",
   "version": "3.6.3"
  }
 },
 "nbformat": 4,
 "nbformat_minor": 2
}
